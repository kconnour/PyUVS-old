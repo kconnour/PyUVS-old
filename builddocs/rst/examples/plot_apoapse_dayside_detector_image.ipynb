{
  "cells": [
    {
      "cell_type": "code",
      "execution_count": null,
      "metadata": {
        "collapsed": false
      },
      "outputs": [],
      "source": [
        "%matplotlib inline"
      ]
    },
    {
      "cell_type": "markdown",
      "metadata": {},
      "source": [
        "\n# Apoapse dayside image\n\nCreate a histogram equalized dayside image from data files.\n"
      ]
    },
    {
      "cell_type": "code",
      "execution_count": null,
      "metadata": {
        "collapsed": false
      },
      "outputs": [],
      "source": [
        "from pathlib import Path\nfrom pyuvs.graphics.standard_products import make_dayside_segment_detector_image\n\norbit = 3453\ndata_path = Path('/media/kyle/Samsung_T5/IUVS_data')\nsl = f'/home/kyle/ql_testing/segment-quicklook-orbit{orbit}.pdf'\nmake_dayside_segment_detector_image(orbit, data_path, sl)"
      ]
    }
  ],
  "metadata": {
    "kernelspec": {
      "display_name": "Python 3",
      "language": "python",
      "name": "python3"
    },
    "language_info": {
      "codemirror_mode": {
        "name": "ipython",
        "version": 3
      },
      "file_extension": ".py",
      "mimetype": "text/x-python",
      "name": "python",
      "nbconvert_exporter": "python",
      "pygments_lexer": "ipython3",
      "version": "3.9.10"
    }
  },
  "nbformat": 4,
  "nbformat_minor": 0
}