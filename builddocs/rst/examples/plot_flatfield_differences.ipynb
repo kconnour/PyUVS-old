{
  "cells": [
    {
      "cell_type": "code",
      "execution_count": null,
      "metadata": {
        "collapsed": false
      },
      "outputs": [],
      "source": [
        "%matplotlib inline"
      ]
    },
    {
      "cell_type": "markdown",
      "metadata": {},
      "source": [
        "\n# MUV Flatfield Comparison\n\nPlot MUV flatfield ratios\n"
      ]
    },
    {
      "cell_type": "code",
      "execution_count": null,
      "metadata": {
        "collapsed": false
      },
      "outputs": [],
      "source": [
        "import matplotlib.pyplot as plt\nimport matplotlib.colors as colors\nimport numpy as np\nfrom pyuvs import load_flatfield_mid_hi_res_pipeline, \\\n    load_flatfield_mid_hi_res_update, load_flatfield_mid_hi_res_my34gds, \\\n    load_flatfield_mid_res_app_flip, load_flatfield_mid_res_no_app_flip, \\\n    load_flatfield_hi_res\n\n\ndef make_scalar_mappable(cmap, vmin, vmax):\n    norm = colors.Normalize(vmin=vmin, vmax=vmax)\n    scalar_mappable = plt.cm.ScalarMappable(cmap=cmap, norm=norm)\n    scalar_mappable.set_array([])\n    return scalar_mappable, norm\n\n\nmaster = load_flatfield_mid_hi_res_pipeline()\nupdate = load_flatfield_mid_hi_res_update()\nbefore = load_flatfield_mid_res_no_app_flip()\nafter = load_flatfield_mid_res_app_flip()\ngds = load_flatfield_mid_hi_res_my34gds()\nhires = load_flatfield_hi_res()\n\n# Rescale FF\nmaster50 = np.zeros((50, 19))\ngds50 = np.zeros((50, 19))\nhires50 = np.zeros((50, 15))\nupdated50 = np.zeros((50, 19))\nfor i in range(19):\n    foo = np.linspace(0, 132, num=50)\n    bar = np.linspace(0, 132, num=133)\n    master50[:, i] = np.interp(foo, bar, master[:, i])\n    gds50[:, i] = np.interp(foo, bar, gds[:, i])\n    updated50[:, i] = np.interp(foo, bar, update[:, i])\n    if i < 15:\n        hires50[:, i] = np.interp(np.linspace(0, 199, num=50),\n                                  np.linspace(0, 199, num=200), hires[:, i])\n\ncmap = 'inferno'\nfont = {'size': 5}\nplt.rc('font', **font)\nplt.rc({'xtick.labelsize': 5})\n\nfig, ax = plt.subplots(2, 7, figsize=(8, 5))\n\nax[0, 0].imshow(after / before, cmap=cmap, vmin=0.9, vmax=1.1, origin='lower')\nax[0, 0].set_title('after/before')\nax[0, 1].imshow(before / master50, cmap=cmap, vmin=0.9, vmax=1.1, origin='lower')\nax[0, 1].set_title('before/master50')\nax[0, 2].imshow(after / master50, cmap=cmap, vmin=0.9, vmax=1.1, origin='lower')\nax[0, 2].set_title('after/master50')\nax[0, 3].imshow(updated50 / master50, cmap=cmap, vmin=0.9, vmax=1.1, origin='lower')\nax[0, 3].set_title('updated50/master50')\nax[0, 4].imshow(gds50 / master50, cmap=cmap, vmin=0.9, vmax=1.1, origin='lower')\nax[0, 4].set_title('MY34 GDS50/master50')\nax[0, 5].imshow(hires50 / master50[:, :15], cmap=cmap, vmin=0.9, vmax=1.1,origin='lower')\nax[0, 5].set_title('Hi-res50/master50')\nsm, _ = make_scalar_mappable(cmap, vmin=0.9, vmax=1.1)\nplt.colorbar(sm, cax=ax[0, 6], aspect=50)\n\nax[1, 0].imshow(after - before, cmap=cmap, vmin=-0.08, vmax=0.08, origin='lower')\nax[1, 0].set_title('after - before')\nax[1, 1].imshow(before - master50, cmap=cmap, vmin=-0.08, vmax=0.08, origin='lower')\nax[1, 1].set_title('before - master50')\nax[1, 2].imshow(after - master50, cmap=cmap, vmin=-0.08, vmax=0.08, origin='lower')\nax[1, 2].set_title('after - master50')\nax[1, 3].imshow(updated50 - master50, cmap=cmap, vmin=-0.08, vmax=0.08, origin='lower')\nax[1, 3].set_title('updated50 - master50')\nax[1, 4].imshow(gds50 - master50, cmap=cmap, vmin=-0.08, vmax=0.08, origin='lower')\nax[1, 4].set_title('MY34 GDS50 - master50')\nax[1, 5].imshow(hires50 - master50[:, :15], cmap=cmap, vmin=-0.08, vmax=0.08, origin='lower')\nax[1, 5].set_title('MY34 GDS50 - master50')\nsm, _ = make_scalar_mappable(cmap, vmin=-0.08, vmax=0.08)\nplt.colorbar(sm, cax=ax[1, 6], aspect=0.5)\n\nplt.show()"
      ]
    }
  ],
  "metadata": {
    "kernelspec": {
      "display_name": "Python 3",
      "language": "python",
      "name": "python3"
    },
    "language_info": {
      "codemirror_mode": {
        "name": "ipython",
        "version": 3
      },
      "file_extension": ".py",
      "mimetype": "text/x-python",
      "name": "python",
      "nbconvert_exporter": "python",
      "pygments_lexer": "ipython3",
      "version": "3.9.10"
    }
  },
  "nbformat": 4,
  "nbformat_minor": 0
}