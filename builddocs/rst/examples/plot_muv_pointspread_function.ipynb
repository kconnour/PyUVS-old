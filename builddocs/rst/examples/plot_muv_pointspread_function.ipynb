{
  "cells": [
    {
      "cell_type": "code",
      "execution_count": null,
      "metadata": {
        "collapsed": false
      },
      "outputs": [],
      "source": [
        "%matplotlib inline"
      ]
    },
    {
      "cell_type": "markdown",
      "metadata": {},
      "source": [
        "\n# MUV Pointspread Function\n\nPlot the MUV pointspread function.\n"
      ]
    },
    {
      "cell_type": "code",
      "execution_count": null,
      "metadata": {
        "collapsed": false
      },
      "outputs": [],
      "source": [
        "import numpy as np\nimport matplotlib.pyplot as plt\nimport matplotlib.ticker as ticker\nfrom lmfit.models import PseudoVoigtModel\nfrom scipy.interpolate import interp1d\nimport pyuvs as pu\n\n# set plot settings\nplt.rc('mathtext', fontset='stix')\nplt.rc('font', **{'family': 'STIXGeneral'})\nplt.rc('font', size=8)\nplt.rc('axes', titlesize=8)\nplt.rc('axes', labelsize=8)\nplt.rc('xtick', labelsize=8)\nplt.rc('ytick', labelsize=8)\nplt.rc('legend', fontsize=8)\nplt.rc('figure', titlesize=8)\nplt.rc('pdf', fonttype=42)\nplt.rc('ps', fonttype=42)\nplt.rc('lines', linewidth=0.5)\nplt.rc('axes', linewidth=0.5)\nplt.rc('xtick.major', width=0.5)\nplt.rc('xtick.minor', width=0.5)\nplt.rc('ytick.major', width=0.5)\nplt.rc('ytick.minor', width=0.5)\ndpi = 150\nplt.rc('savefig', dpi=dpi)\n\n# my custom color dictionary\ncolor_dict = {'red': '#D62728', 'orange': '#FF7F0E', 'yellow': '#FDB813',\n              'green': '#2CA02C', 'blue': '#0079C1', 'violet': '#9467BD',\n              'cyan': '#17BECF', 'magenta': '#D64ECF', 'brown': '#8C564B',\n              'darkgrey': '#3F3F3F', 'grey': '#7F7F7F', 'lightgrey': '#BFBFBF'}\n\n# get point-spread function data\npsf = pu.load_muv_point_spread_function()\n\n# set model x and y variables\ndetector_pixels = np.arange(len(psf))\ndetector_pixel_edges = np.linspace(0, len(psf)-1, len(psf)+1)\n\n# initialize model\nmodel = PseudoVoigtModel()\n\n# use model's built-in initial parameters guessing option\ninitial_parameters = model.guess(psf, x=detector_pixels)\n\n# fit the model to the point-spread function data\nresult = model.fit(psf, initial_parameters, x=detector_pixels)\nparams = result.params\nparnames = sorted(params)\n\n# make a figure and axes\nfig, axes = plt.subplots(2, 1, figsize=(5, 4), sharex=True,\n                         gridspec_kw={'height_ratios': [4, 1]},\n                         constrained_layout=True)\n\n# plot the IUVS data\naxes[0].step(detector_pixel_edges, np.concatenate((psf, [psf[-1]])), where='post', color=color_dict['grey'], linewidth=1)\n\n# plot the model fit result at 100x resolution\nx = np.linspace(detector_pixels[0], detector_pixels[-1], (len(detector_pixels)-1)*100 + 1)\naxes[0].plot(x, result.eval(params, x=x), color=color_dict['red'])\n\n# scatterplot the residuals from the model fit and a spline fit to the residuals\naxes[1].scatter(detector_pixels, result.residual*100, color=color_dict['grey'], edgecolor='none', s=3)\nf = interp1d(detector_pixels, result.residual*100, kind='cubic')\naxes[1].plot(x, f(x), color=color_dict['grey'])\n\n# label the plots\naxes[0].text(86, 0.125, 'Data', color=color_dict['grey'], ha='right')\naxes[0].text(84, 0.115, 'Pseudo-Voigt Fit', color=color_dict['red'], ha='right')\nfor i in range(len(params)):\n    ind = parnames[i]\n    name = ind.capitalize()\n    if name == 'Fwhm':\n        name = 'FWHM'\n    elif name == 'Fraction':\n        name = 'Lorentz\\ Fraction'\n    if ind == 'height':\n        txt = r'$\\bf{' + name + '}$: ' + f' ${params[ind].value:.5f} \\pm {params[ind].stderr:.5f}$'\n    elif ind == 'amplitude':\n        txt = r'$\\bf{' + name + '}$: ' + f'${params[ind].value:.4f} \\pm {params[ind].stderr:.4f}$'\n    else:\n        txt = r'$\\bf{' + name + '}$: ' + f'${params[ind].value:.3f} \\pm {params[ind].stderr:.3f}$'\n    axes[0].text(0.6475, 0.98-0.05*i, txt, ha='left', va='top', transform=axes[0].transAxes)\n\n# set PSF axis parameters\naxes[0].xaxis.set_major_locator(ticker.MultipleLocator(15))\naxes[0].xaxis.set_minor_locator(ticker.MultipleLocator(3))\naxes[0].set_xlim(detector_pixel_edges[0], detector_pixel_edges[-1])\naxes[0].yaxis.set_major_locator(ticker.MultipleLocator(0.025))\naxes[0].yaxis.set_minor_locator(ticker.MultipleLocator(0.005))\naxes[0].set_ylim(0, 0.15)\naxes[0].set_ylabel('Amplitude')\n\n# set residual axis parameters\naxes[1].set_xlabel('Detector Pixel')\naxes[1].set_ylabel('Residual [%]')\n\n# save the plot\nplt.show()"
      ]
    }
  ],
  "metadata": {
    "kernelspec": {
      "display_name": "Python 3",
      "language": "python",
      "name": "python3"
    },
    "language_info": {
      "codemirror_mode": {
        "name": "ipython",
        "version": 3
      },
      "file_extension": ".py",
      "mimetype": "text/x-python",
      "name": "python",
      "nbconvert_exporter": "python",
      "pygments_lexer": "ipython3",
      "version": "3.9.10"
    }
  },
  "nbformat": 4,
  "nbformat_minor": 0
}