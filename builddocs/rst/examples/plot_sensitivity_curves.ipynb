{
  "cells": [
    {
      "cell_type": "code",
      "execution_count": null,
      "metadata": {
        "collapsed": false
      },
      "outputs": [],
      "source": [
        "%matplotlib inline"
      ]
    },
    {
      "cell_type": "markdown",
      "metadata": {},
      "source": [
        "\n# Sensitivity Curves\n\nPlot the FUV and MUV sensitivity curves.\n"
      ]
    },
    {
      "cell_type": "markdown",
      "metadata": {},
      "source": [
        "Import everything we'll need.\n\n"
      ]
    },
    {
      "cell_type": "code",
      "execution_count": null,
      "metadata": {
        "collapsed": false
      },
      "outputs": [],
      "source": [
        "import matplotlib.pyplot as plt\nimport matplotlib.ticker as ticker\nimport pyuvs as pu"
      ]
    },
    {
      "cell_type": "markdown",
      "metadata": {},
      "source": [
        "Set the matplotlib rc params.\n\n"
      ]
    },
    {
      "cell_type": "code",
      "execution_count": null,
      "metadata": {
        "collapsed": false
      },
      "outputs": [],
      "source": [
        "plt.rc('mathtext', fontset='stix')\nplt.rc('font', **{'family': 'STIXGeneral'})\nplt.rc('font', size=8)\nplt.rc('axes', titlesize=8)\nplt.rc('axes', labelsize=8)\nplt.rc('xtick', labelsize=8)\nplt.rc('ytick', labelsize=8)\nplt.rc('legend', fontsize=8)\nplt.rc('figure', titlesize=8)\nplt.rc('pdf', fonttype=42)\nplt.rc('ps', fonttype=42)\nplt.rc('lines', linewidth=0.5)\nplt.rc('axes', linewidth=0.5)\nplt.rc('xtick.major', width=0.5)\nplt.rc('xtick.minor', width=0.5)\nplt.rc('ytick.major', width=0.5)\nplt.rc('ytick.minor', width=0.5)\ndpi = 150\nplt.rc('savefig', dpi=dpi)"
      ]
    },
    {
      "cell_type": "markdown",
      "metadata": {},
      "source": [
        "Load the curves and plot them.\n\n"
      ]
    },
    {
      "cell_type": "code",
      "execution_count": null,
      "metadata": {
        "collapsed": false
      },
      "outputs": [],
      "source": [
        "fig, axis = plt.subplots(1, 1, figsize=(3*1.618, 3), constrained_layout=True)\n\nmuv_factory = pu.load_muv_sensitivity_curve_manufacturer()\nmuv_obs = pu.load_muv_sensitivity_curve_observational()\nfuv_factory = pu.load_fuv_sensitivity_curve_manufacturer()\n\naxis.plot(fuv_factory[:, 0], fuv_factory[:, 1], color='#7F7F7F', linewidth=1)\naxis.plot(muv_factory[:, 0], muv_factory[:, 1], color='#7F7F7F', linewidth=1)\naxis.plot(muv_obs[:, 0], muv_obs[:, 1], color='#D62728', linewidth=1)\n\naxis.text(140, 0.075, 'FUV', color='#7F7F7F')\naxis.text(200, 0.01, 'MUV (June 9, 2014)', color='#7F7F7F')\naxis.text(260, 0.05, 'MUV (October 19, 2018)', color='#D62728')\n\naxis.xaxis.set_major_locator(ticker.MultipleLocator(30))\naxis.xaxis.set_minor_locator(ticker.MultipleLocator(5))\naxis.set_xlabel('Wavelength [nm]')\naxis.yaxis.set_major_locator(ticker.MultipleLocator(0.02))\naxis.yaxis.set_minor_locator(ticker.MultipleLocator(0.005))\naxis.set_ylim(0, 0.1)\naxis.set_ylabel('Detector Sensitivity [$\\mathrm{DN}/(\\mathrm{photons}/'\n                '\\mathrm{cm^2})$ at $\\mathrm{gain} = 1$]')\n\nplt.show()"
      ]
    }
  ],
  "metadata": {
    "kernelspec": {
      "display_name": "Python 3",
      "language": "python",
      "name": "python3"
    },
    "language_info": {
      "codemirror_mode": {
        "name": "ipython",
        "version": 3
      },
      "file_extension": ".py",
      "mimetype": "text/x-python",
      "name": "python",
      "nbconvert_exporter": "python",
      "pygments_lexer": "ipython3",
      "version": "3.9.10"
    }
  },
  "nbformat": 4,
  "nbformat_minor": 0
}