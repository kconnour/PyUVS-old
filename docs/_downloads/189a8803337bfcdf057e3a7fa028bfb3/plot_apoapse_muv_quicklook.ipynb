{
  "cells": [
    {
      "cell_type": "code",
      "execution_count": null,
      "metadata": {
        "collapsed": false
      },
      "outputs": [],
      "source": [
        "%matplotlib inline"
      ]
    },
    {
      "cell_type": "markdown",
      "metadata": {},
      "source": [
        "\n# Apoapse MUV quicklook\n\nCreate a standard apoapse MUV quicklook.\n\nThere are tons of options when it comes to creating images:\n\n* Will the data come from data files or a database?\n* Should the dayside coloring use histogram equalization or a linear scaling?\n* What templates should be fit to the nightside data?\n* Will there be a dayside mask that sets the coloring?\n\nIt's therefore nearly impossible to create a function that handles all the\npotential options. This example will walk through how to create a standard\napoapse quicklook. It uses data from data files, uses dayside histogram\nequalization, and fits 4 templates to nightside data.\n"
      ]
    },
    {
      "cell_type": "markdown",
      "metadata": {},
      "source": [
        "Import everything we'll need.\n\n"
      ]
    },
    {
      "cell_type": "code",
      "execution_count": null,
      "metadata": {
        "collapsed": false
      },
      "outputs": [],
      "source": [
        "from pathlib import Path\nimport matplotlib.pyplot as plt\nimport numpy as np\nimport pyuvs as pu"
      ]
    },
    {
      "cell_type": "markdown",
      "metadata": {},
      "source": [
        "Set variables on where we'll pull the data from and where we'll save the\ndata. Note that if you turn this into a function, these will be the only\nrequired inputs.\n\n"
      ]
    },
    {
      "cell_type": "code",
      "execution_count": null,
      "metadata": {
        "collapsed": false
      },
      "outputs": [],
      "source": [
        "orbit = 5738\ndata_path = Path('/media/kyle/Samsung_T5/IUVS_data')\nsave_location = f'/home/kyle/ql_testing/apoapse-muv-quicklook-orbit{orbit}.pdf'"
      ]
    },
    {
      "cell_type": "markdown",
      "metadata": {},
      "source": [
        "Load the graphical template where we'll put the images.\n\n"
      ]
    },
    {
      "cell_type": "code",
      "execution_count": null,
      "metadata": {
        "collapsed": false
      },
      "outputs": [],
      "source": [
        "# sphinx_gallery_thumbnail_number = -1\ntemplate = pu.graphics.ApoapseMUVQuicklook()\n# sphinx_gallery_defer_figures"
      ]
    },
    {
      "cell_type": "markdown",
      "metadata": {},
      "source": [
        "Load in the data into a file collection. This object will help us pull the\ninfo from the IUVS files that we need.\n\n"
      ]
    },
    {
      "cell_type": "code",
      "execution_count": null,
      "metadata": {
        "collapsed": false
      },
      "outputs": [],
      "source": [
        "data_paths = pu.datafiles.find_latest_apoapse_muv_file_paths_from_block(\n    data_path, orbit)\nfiles = [pu.datafiles.L1bFile(f) for f in data_paths]\nfc = pu.datafiles.L1bFileCollection(files)\n# sphinx_gallery_defer_figures"
      ]
    },
    {
      "cell_type": "markdown",
      "metadata": {},
      "source": [
        "Make the data that's independent of day/night.\n\n"
      ]
    },
    {
      "cell_type": "code",
      "execution_count": null,
      "metadata": {
        "collapsed": false
      },
      "outputs": [],
      "source": [
        "fov = fc.stack_field_of_view()\nswath_numbers = pu.swath_number(fov)\nfc.make_daynight_integration_mask()\ndayside_integration_mask = fc.make_daynight_integration_mask()\n# sphinx_gallery_defer_figures"
      ]
    },
    {
      "cell_type": "markdown",
      "metadata": {},
      "source": [
        "Stack pixels that are either dayside or nightside. Plot them\n\n"
      ]
    },
    {
      "cell_type": "code",
      "execution_count": null,
      "metadata": {
        "collapsed": false
      },
      "outputs": [],
      "source": [
        "for daynight in [True, False]:\n    fc.dayside = daynight\n    if daynight not in dayside_integration_mask:\n        continue\n\n    primary = fc.stack_daynight_calibrated_detector_image()\n    on_disk_mask = fc.make_daynight_on_disk_mask()\n    daynight_fov = fov[dayside_integration_mask == daynight]\n    daynight_swath_number = swath_numbers[dayside_integration_mask == daynight]\n    sza = pu.set_bad_pixels_to_nan(\n        fc.stack_daynight_solar_zenith_angle(), on_disk_mask)\n    ea = pu.set_bad_pixels_to_nan(\n        fc.stack_daynight_emission_angle(), on_disk_mask)\n    pa = pu.set_bad_pixels_to_nan(\n        fc.stack_daynight_phase_angle(), on_disk_mask)\n    lt = pu.set_bad_pixels_to_nan(\n        fc.stack_daynight_local_time(), on_disk_mask)\n    n_spatial_bins = primary.shape[1]\n\n    # Do dayside specific things\n    if daynight:\n        # TODO: FF correct here\n        rgb_primary = pu.graphics.histogram_equalize_detector_image(primary) / 255\n    # Do nightside specific things\n    else:\n        dds = fc.stack_detector_image_dark_subtracted()\n        dn_unc = fc.stack_detector_image_random_uncertainty_dn()\n        file = fc.get_first_nightside_file()\n\n        spbw = int(np.median(file.binning.spectral_pixel_bin_width))\n        ssi = int(file.binning.spectral_pixel_bin_width[0] / spbw)\n        spapbw = int(np.median(file.binning.spatial_pixel_bin_width))\n        ww = np.median(file.observation.wavelength_width)\n        vg = file.observation.voltage_gain\n        it = file.observation.integration_time\n\n        brightnesses = pu.fit_muv_templates_to_nightside_data(\n            dds, dn_unc, ww, spapbw, spbw, ssi, vg, it)\n        no_kR = brightnesses[0, ...]\n        aurora_kR = brightnesses[1, ...]\n\n    for swath in np.unique(swath_numbers):\n        # Do this no matter if I'm plotting primary or angles\n        swath_inds = daynight_swath_number == swath\n        n_integrations = np.sum(swath_inds)\n        x, y = pu.graphics.make_swath_grid(daynight_fov[swath_inds], swath,\n                               n_spatial_bins, n_integrations)\n        pu.graphics.pcolormesh_detector_image(\n            template.solar_zenith_angle_swath,\n            sza[swath_inds], x, y,\n            cmap=template.angle_colormap,\n            norm=template.angle_norm)\n        pu.graphics.pcolormesh_detector_image(template.emission_angle_swath,\n                                  ea[swath_inds], x, y,\n                                  cmap=template.angle_colormap,\n                                  norm=template.angle_norm)\n        pu.graphics.pcolormesh_detector_image(template.phase_angle_swath,\n                                  pa[swath_inds], x, y,\n                                  cmap=template.angle_colormap,\n                                  norm=template.angle_norm)\n        pu.graphics.pcolormesh_detector_image(template.local_time_swath,\n                                  lt[swath_inds], x, y,\n                                  cmap=template.local_time_colormap,\n                                  norm=template.local_time_norm)\n\n        # Plot the primary for dayside data\n        if daynight:\n            pu.graphics.pcolormesh_rgb_detector_image(template.no_data_swath,\n                                          rgb_primary[swath_inds], x, y)\n            pu.graphics.pcolormesh_rgb_detector_image(template.aurora_data_swath,\n                                          rgb_primary[swath_inds], x, y)\n        else:\n            pu.graphics.pcolormesh_detector_image(\n                template.no_data_swath, no_kR[swath_inds], x, y,\n                cmap=template.no_colormap,\n                norm=template.no_norm)\n            pu.graphics.pcolormesh_detector_image(\n                template.aurora_data_swath, aurora_kR[swath_inds], x, y,\n                cmap=template.aurora_colormap,\n                norm=template.aurora_norm)\n# sphinx_gallery_defer_figures"
      ]
    },
    {
      "cell_type": "markdown",
      "metadata": {},
      "source": [
        "Set the axis limits in the subplots\n\n"
      ]
    },
    {
      "cell_type": "code",
      "execution_count": null,
      "metadata": {
        "collapsed": false
      },
      "outputs": [],
      "source": [
        "for ax in [template.no_data_swath, template.aurora_data_swath,\n           template.solar_zenith_angle_swath,\n           template.emission_angle_swath, template.phase_angle_swath,\n           template.local_time_swath]:\n    ax.set_xlim(0, pu.angular_slit_width * (swath_numbers[-1] + 1))\n    ax.set_ylim(pu.minimum_mirror_angle * 2, pu.maximum_mirror_angle * 2)\n    ax.set_xticks([])\n    ax.set_yticks([])\nplt.savefig(save_location)"
      ]
    }
  ],
  "metadata": {
    "kernelspec": {
      "display_name": "Python 3",
      "language": "python",
      "name": "python3"
    },
    "language_info": {
      "codemirror_mode": {
        "name": "ipython",
        "version": 3
      },
      "file_extension": ".py",
      "mimetype": "text/x-python",
      "name": "python",
      "nbconvert_exporter": "python",
      "pygments_lexer": "ipython3",
      "version": "3.9.10"
    }
  },
  "nbformat": 4,
  "nbformat_minor": 0
}